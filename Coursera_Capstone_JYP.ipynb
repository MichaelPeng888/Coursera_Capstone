{
 "cells": [
  {
   "cell_type": "markdown",
   "id": "5914f29a-4c60-42b7-bc9a-25016b725bac",
   "metadata": {},
   "source": [
    "THis is the assignment of JYP for the course Applied data science captston_week1\n"
   ]
  },
  {
   "cell_type": "code",
   "execution_count": 2,
   "id": "75d2934f-80f4-4d00-9ef8-df2535bc5e47",
   "metadata": {},
   "outputs": [
    {
     "name": "stdout",
     "output_type": "stream",
     "text": [
      "Hello Capstone Project Course!\n"
     ]
    }
   ],
   "source": [
    "import pandas as pd\n",
    "import numpy as np\n",
    "print('Hello Capstone Project Course!')"
   ]
  },
  {
   "cell_type": "code",
   "execution_count": null,
   "id": "fb27accf-b956-40f5-973d-b3d69cd0ed34",
   "metadata": {},
   "outputs": [],
   "source": []
  }
 ],
 "metadata": {
  "kernelspec": {
   "display_name": "Python",
   "language": "python",
   "name": "conda-env-python-py"
  },
  "language_info": {
   "codemirror_mode": {
    "name": "ipython",
    "version": 3
   },
   "file_extension": ".py",
   "mimetype": "text/x-python",
   "name": "python",
   "nbconvert_exporter": "python",
   "pygments_lexer": "ipython3",
   "version": "3.6.13"
  }
 },
 "nbformat": 4,
 "nbformat_minor": 5
}
